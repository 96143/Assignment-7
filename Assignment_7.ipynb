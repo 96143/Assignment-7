{
  "nbformat": 4,
  "nbformat_minor": 0,
  "metadata": {
    "colab": {
      "name": "Assignment 7.ipynb",
      "provenance": [],
      "collapsed_sections": [],
      "include_colab_link": true
    },
    "kernelspec": {
      "name": "python3",
      "display_name": "Python 3"
    },
    "language_info": {
      "name": "python"
    }
  },
  "cells": [
    {
      "cell_type": "markdown",
      "metadata": {
        "id": "view-in-github",
        "colab_type": "text"
      },
      "source": [
        "<a href=\"https://colab.research.google.com/github/96143/Assignment-7/blob/main/Assignment_7.ipynb\" target=\"_parent\"><img src=\"https://colab.research.google.com/assets/colab-badge.svg\" alt=\"Open In Colab\"/></a>"
      ]
    },
    {
      "cell_type": "code",
      "metadata": {
        "id": "vKgINIj_dm-6",
        "colab": {
          "base_uri": "https://localhost:8080/",
          "height": 520
        },
        "outputId": "28ff673b-7c0f-4827-becd-b8b493fb1cd0"
      },
      "source": [
        "# Import libraries\n",
        "import numpy as np\n",
        "import matplotlib.pyplot as plt\n",
        "import seaborn as sns\n",
        "# Input variables\n",
        "# Number of trials\n",
        "trials = 1000\n",
        "# Number of independent experiments in each trial\n",
        "n = 6\n",
        "# Probability of success for each experiment\n",
        "p = 1/6\n",
        "# Function that runs our coin toss trials\n",
        "# Getting doublet is a list of the number of successes from each trial of n experiments\n",
        "def run_binom(trials, n, p):\n",
        "    X_ = []\n",
        "    for i in range(trials):\n",
        "        draw = [np.random.random() for i in range(n)]\n",
        "        X_.append(len([i for i in draw if i>=0.50]))\n",
        "    return heads\n",
        "# Run the function\n",
        "X1 = run_binom(trials, n, p)\n",
        "# Plot the results as a histogram\n",
        "fig, ax = plt.subplots(figsize=(14,7))\n",
        "ax = sns.distplot(X1, bins=11, label='simulation results')\n",
        "ax.set_xlabel(\"Number of doublets\",fontsize=16)\n",
        "ax.set_ylabel(\"Frequency\",fontsize=16)"
      ],
      "execution_count": null,
      "outputs": [
        {
          "output_type": "stream",
          "text": [
            "/usr/local/lib/python3.7/dist-packages/seaborn/distributions.py:2557: FutureWarning: `distplot` is a deprecated function and will be removed in a future version. Please adapt your code to use either `displot` (a figure-level function with similar flexibility) or `histplot` (an axes-level function for histograms).\n",
            "  warnings.warn(msg, FutureWarning)\n"
          ],
          "name": "stderr"
        },
        {
          "output_type": "execute_result",
          "data": {
            "text/plain": [
              "Text(0, 0.5, 'Frequency')"
            ]
          },
          "metadata": {
            "tags": []
          },
          "execution_count": 17
        },
        {
          "output_type": "display_data",
          "data": {
            "image/png": "[encoded data removed]",
            "text/plain": [
              "<Figure size 1008x504 with 1 Axes>"
            ]
          },
          "metadata": {
            "tags": [],
            "needs_background": "light"
          }
        }
      ]
    },
    {
      "cell_type": "code",
      "metadata": {
        "id": "9ZnSa5HBdo0N",
        "colab": {
          "base_uri": "https://localhost:8080/"
        },
        "outputId": "7d16a88f-6e4c-412f-fc02-323c59df74b9"
      },
      "source": [
        "np.random.binomial(n, p)"
      ],
      "execution_count": null,
      "outputs": [
        {
          "output_type": "execute_result",
          "data": {
            "text/plain": [
              "0"
            ]
          },
          "metadata": {
            "tags": []
          },
          "execution_count": 18
        }
      ]
    },
    {
      "cell_type": "code",
      "metadata": {
        "id": "Ih7z9V2idzMi",
        "colab": {
          "base_uri": "https://localhost:8080/"
        },
        "outputId": "afda4980-6c25-4ab3-bd04-b2aa0e373044"
      },
      "source": [
        "# Probability of getting 0 doublet\n",
        "runs = 10000\n",
        "prob_6 = sum([1 for i in np.random.binomial(n, p, size=runs) if i==0])/runs\n",
        "print('The probability of getting no doublet is: ' + str(prob_6))"
      ],
      "execution_count": null,
      "outputs": [
        {
          "output_type": "stream",
          "text": [
            "The probability of getting no doublet is: 0.3353\n"
          ],
          "name": "stdout"
        }
      ]
    },
    {
      "cell_type": "code",
      "metadata": {
        "id": "Kbdxv8FEdzDo",
        "colab": {
          "base_uri": "https://localhost:8080/"
        },
        "outputId": "a92c5efd-fc56-44be-ac0f-44cba880bef1"
      },
      "source": [
        "# Probability of getting one doublet \n",
        "runs = 10000\n",
        "prob_4 = sum([1 for i in np.random.binomial(n, p, size=runs) if i==1])/runs\n",
        "print('The probability of getting one doublet is: ' + str(prob_4))"
      ],
      "execution_count": null,
      "outputs": [
        {
          "output_type": "stream",
          "text": [
            "The probability of getting one doublet is: 0.4105\n"
          ],
          "name": "stdout"
        }
      ]
    },
    {
      "cell_type": "code",
      "metadata": {
        "id": "72u8MCFEdolJ",
        "colab": {
          "base_uri": "https://localhost:8080/"
        },
        "outputId": "cbec37f8-aa74-4e3a-dd26-a5d73ab24bc1"
      },
      "source": [
        "# Probability of getting two doublets\n",
        "runs = 10000\n",
        "prob_6 = sum([1 for i in np.random.binomial(n, p, size=runs) if i==2])/runs\n",
        "prob = 1 - prob_6\n",
        "print('The probability of getting two doublets is: ' + str(prob))"
      ],
      "execution_count": null,
      "outputs": [
        {
          "output_type": "stream",
          "text": [
            "The probability of getting two doublets is: 0.8039000000000001\n"
          ],
          "name": "stdout"
        }
      ]
    },
    {
      "cell_type": "code",
      "metadata": {
        "colab": {
          "base_uri": "https://localhost:8080/"
        },
        "id": "0u4mnxpISJFn",
        "outputId": "1744f1d4-886d-45a0-d741-71af4767e77d"
      },
      "source": [
        "# Probability of getting 3 doublets\n",
        "runs = 10000\n",
        "prob_6 = sum([1 for i in np.random.binomial(n, p, size=runs) if i==3])/runs\n",
        "print('The probability of getting 3 doublets: ' + str(prob_6))"
      ],
      "execution_count": null,
      "outputs": [
        {
          "output_type": "stream",
          "text": [
            "The probability of getting 3 doublets: 0.0533\n"
          ],
          "name": "stdout"
        }
      ]
    }
  ]
}